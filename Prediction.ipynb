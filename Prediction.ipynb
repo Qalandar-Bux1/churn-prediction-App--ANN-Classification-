{
 "cells": [
  {
   "cell_type": "code",
   "execution_count": 8,
   "id": "875fb505",
   "metadata": {},
   "outputs": [],
   "source": [
    "import tensorflow as tf\n",
    "from tensorflow.keras.models import load_model\n",
    "import pickle\n",
    "import pandas as pd \n",
    "import numpy as np\n"
   ]
  },
  {
   "cell_type": "code",
   "execution_count": 9,
   "id": "23beaca6",
   "metadata": {},
   "outputs": [
    {
     "name": "stderr",
     "output_type": "stream",
     "text": [
      "WARNING:absl:Compiled the loaded model, but the compiled metrics have yet to be built. `model.compile_metrics` will be empty until you train or evaluate the model.\n"
     ]
    }
   ],
   "source": [
    "##load Pickle File \n",
    "model=load_model('model.h5')"
   ]
  },
  {
   "cell_type": "code",
   "execution_count": 17,
   "id": "221c2c8e",
   "metadata": {},
   "outputs": [],
   "source": [
    "#load encoder and scaler \n",
    "with open('onehot_encoder_geo','rb') as file:\n",
    "    onehot_encoder_geo=pickle.load(file)\n",
    "with open('label_encoder_gender','rb') as file:\n",
    "    label_encoder_gender=pickle.load(file)\n",
    "with open('scaler.pkl','rb') as file:\n",
    "    scaler=pickle.load(file)"
   ]
  },
  {
   "cell_type": "code",
   "execution_count": 18,
   "id": "ab453966",
   "metadata": {},
   "outputs": [],
   "source": [
    "input_data = {\n",
    "    'CreditScore': 600,\n",
    "    'Geography': 'France',\n",
    "    'Gender': 'Male',\n",
    "    'Age': 40,\n",
    "    'Tenure': 3,\n",
    "    'Balance': 60000,\n",
    "    'NumOfProducts': 2,\n",
    "    'HasCrCard': 1,\n",
    "    'IsActiveMember': 1,\n",
    "    'EstimatedSalary': 50000\n",
    "}\n"
   ]
  },
  {
   "cell_type": "code",
   "execution_count": 19,
   "id": "74d948da",
   "metadata": {},
   "outputs": [
    {
     "name": "stdout",
     "output_type": "stream",
     "text": [
      "\u001b[1m1/1\u001b[0m \u001b[32m━━━━━━━━━━━━━━━━━━━━\u001b[0m\u001b[37m\u001b[0m \u001b[1m0s\u001b[0m 236ms/step\n",
      "Prediction: Will Stay, Probability: 0.04\n"
     ]
    }
   ],
   "source": [
    "# Convert dictionary to DataFrame\n",
    "input_df = pd.DataFrame([input_data])\n",
    "\n",
    "# Encode Geography (OneHotEncoder)\n",
    "geo_encoded = onehot_encoder_geo.transform(input_df[[\"Geography\"]]).toarray()\n",
    "geo_cols = onehot_encoder_geo.get_feature_names_out([\"Geography\"])\n",
    "geo_df = pd.DataFrame(geo_encoded, columns=geo_cols)\n",
    "\n",
    "# Encode Gender (LabelEncoder)\n",
    "input_df[\"Gender\"] = label_encoder_gender.transform(input_df[\"Gender\"])\n",
    "\n",
    "# Merge back encoded columns\n",
    "input_df = pd.concat([input_df.drop(\"Geography\", axis=1), geo_df], axis=1)\n",
    "\n",
    "# Scale numeric features\n",
    "input_scaled = scaler.transform(input_df)\n",
    "\n",
    "# Prediction\n",
    "prediction = model.predict(input_scaled)\n",
    "probability = prediction[0][0]  # Binary classification → single output neuron\n",
    "\n",
    "result = \"Will Exit\" if probability > 0.5 else \"Will Stay\"\n",
    "\n",
    "print(f\"Prediction: {result}, Probability: {probability:.2f}\")\n"
   ]
  },
  {
   "cell_type": "code",
   "execution_count": null,
   "id": "e42f1ea3",
   "metadata": {},
   "outputs": [],
   "source": []
  }
 ],
 "metadata": {
  "kernelspec": {
   "display_name": "Python 3",
   "language": "python",
   "name": "python3"
  },
  "language_info": {
   "codemirror_mode": {
    "name": "ipython",
    "version": 3
   },
   "file_extension": ".py",
   "mimetype": "text/x-python",
   "name": "python",
   "nbconvert_exporter": "python",
   "pygments_lexer": "ipython3",
   "version": "3.12.3"
  }
 },
 "nbformat": 4,
 "nbformat_minor": 5
}
